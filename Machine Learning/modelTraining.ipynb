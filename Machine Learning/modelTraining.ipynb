{
 "cells": [
  {
   "cell_type": "code",
   "execution_count": 14,
   "metadata": {},
   "outputs": [
    {
     "name": "stderr",
     "output_type": "stream",
     "text": [
      "C:\\Users\\agraw\\AppData\\Local\\Temp\\ipykernel_8628\\914992883.py:9: FutureWarning: pandas.Int64Index is deprecated and will be removed from pandas in a future version. Use pandas.Index with the appropriate dtype instead.\n",
      "  from pandas import MultiIndex, Int64Index\n"
     ]
    }
   ],
   "source": [
    "# Imports for plots and system\n",
    "import pandas as pd\n",
    "import pickle"
   ]
  },
  {
   "cell_type": "code",
   "execution_count": 15,
   "metadata": {},
   "outputs": [
    {
     "name": "stderr",
     "output_type": "stream",
     "text": [
      "C:\\Users\\agraw\\AppData\\Local\\Packages\\PythonSoftwareFoundation.Python.3.9_qbz5n2kfra8p0\\LocalCache\\local-packages\\Python39\\site-packages\\xgboost\\compat.py:36: FutureWarning: pandas.Int64Index is deprecated and will be removed from pandas in a future version. Use pandas.Index with the appropriate dtype instead.\n",
      "  from pandas import MultiIndex, Int64Index\n"
     ]
    }
   ],
   "source": [
    "# Imports for ML models\n",
    "from sklearn.naive_bayes import GaussianNB\n",
    "from sklearn.linear_model import SGDClassifier, LogisticRegression\n",
    "from sklearn.neighbors import KNeighborsClassifier\n",
    "from sklearn.tree import DecisionTreeClassifier\n",
    "from sklearn.ensemble import RandomForestClassifier\n",
    "from sklearn.svm import SVC\n",
    "from sklearn.neural_network import MLPClassifier\n",
    "from xgboost import XGBClassifier, XGBRFClassifier\n",
    "import catboost as cb"
   ]
  },
  {
   "cell_type": "code",
   "execution_count": 16,
   "metadata": {},
   "outputs": [],
   "source": [
    "# Imports for Training and accuracy\n",
    "from sklearn.metrics import accuracy_score\n",
    "from sklearn import preprocessing\n",
    "from sklearn.model_selection import train_test_split"
   ]
  },
  {
   "cell_type": "code",
   "execution_count": 21,
   "metadata": {},
   "outputs": [
    {
     "data": {
      "text/html": [
       "<div>\n",
       "<style scoped>\n",
       "    .dataframe tbody tr th:only-of-type {\n",
       "        vertical-align: middle;\n",
       "    }\n",
       "\n",
       "    .dataframe tbody tr th {\n",
       "        vertical-align: top;\n",
       "    }\n",
       "\n",
       "    .dataframe thead th {\n",
       "        text-align: right;\n",
       "    }\n",
       "</style>\n",
       "<table border=\"1\" class=\"dataframe\">\n",
       "  <thead>\n",
       "    <tr style=\"text-align: right;\">\n",
       "      <th></th>\n",
       "      <th>mfcc1_mean</th>\n",
       "      <th>mfcc1_var</th>\n",
       "      <th>mfcc2_mean</th>\n",
       "      <th>mfcc2_var</th>\n",
       "      <th>mfcc3_mean</th>\n",
       "      <th>mfcc3_var</th>\n",
       "      <th>mfcc4_mean</th>\n",
       "      <th>mfcc4_var</th>\n",
       "      <th>mfcc5_mean</th>\n",
       "      <th>mfcc5_var</th>\n",
       "      <th>...</th>\n",
       "      <th>spectral_bandwidth_mean</th>\n",
       "      <th>spectral_bandwidth_var</th>\n",
       "      <th>spectral_rolloff_mean</th>\n",
       "      <th>spectral_rolloff_var</th>\n",
       "      <th>zero_crossing_rate_mean</th>\n",
       "      <th>zero_crossing_rate_var</th>\n",
       "      <th>harmony_mean</th>\n",
       "      <th>harmony_var</th>\n",
       "      <th>tempo</th>\n",
       "      <th>label</th>\n",
       "    </tr>\n",
       "  </thead>\n",
       "  <tbody>\n",
       "    <tr>\n",
       "      <th>0</th>\n",
       "      <td>-119.018040</td>\n",
       "      <td>2494.4453</td>\n",
       "      <td>125.080345</td>\n",
       "      <td>262.11307</td>\n",
       "      <td>-23.394335</td>\n",
       "      <td>365.39410</td>\n",
       "      <td>41.321730</td>\n",
       "      <td>181.91304</td>\n",
       "      <td>-5.931897</td>\n",
       "      <td>152.47517</td>\n",
       "      <td>...</td>\n",
       "      <td>1972.334258</td>\n",
       "      <td>117272.64020</td>\n",
       "      <td>3714.063439</td>\n",
       "      <td>1.083179e+06</td>\n",
       "      <td>0.081851</td>\n",
       "      <td>0.000558</td>\n",
       "      <td>-0.000047</td>\n",
       "      <td>0.008388</td>\n",
       "      <td>129.199219</td>\n",
       "      <td>blues</td>\n",
       "    </tr>\n",
       "    <tr>\n",
       "      <th>1</th>\n",
       "      <td>-125.977150</td>\n",
       "      <td>2046.7885</td>\n",
       "      <td>122.374200</td>\n",
       "      <td>218.45811</td>\n",
       "      <td>-20.679749</td>\n",
       "      <td>233.20865</td>\n",
       "      <td>50.035050</td>\n",
       "      <td>143.88158</td>\n",
       "      <td>-11.250690</td>\n",
       "      <td>139.74892</td>\n",
       "      <td>...</td>\n",
       "      <td>2010.751494</td>\n",
       "      <td>65940.66624</td>\n",
       "      <td>3870.510442</td>\n",
       "      <td>6.721332e+05</td>\n",
       "      <td>0.087173</td>\n",
       "      <td>0.001030</td>\n",
       "      <td>-0.000098</td>\n",
       "      <td>0.004937</td>\n",
       "      <td>123.046875</td>\n",
       "      <td>blues</td>\n",
       "    </tr>\n",
       "    <tr>\n",
       "      <th>2</th>\n",
       "      <td>-132.618150</td>\n",
       "      <td>3794.8044</td>\n",
       "      <td>114.815520</td>\n",
       "      <td>246.77928</td>\n",
       "      <td>-14.718568</td>\n",
       "      <td>192.96564</td>\n",
       "      <td>50.017944</td>\n",
       "      <td>153.58598</td>\n",
       "      <td>-0.424878</td>\n",
       "      <td>122.80047</td>\n",
       "      <td>...</td>\n",
       "      <td>2088.184750</td>\n",
       "      <td>73391.49800</td>\n",
       "      <td>4000.206581</td>\n",
       "      <td>7.859502e+05</td>\n",
       "      <td>0.071383</td>\n",
       "      <td>0.000425</td>\n",
       "      <td>-0.000007</td>\n",
       "      <td>0.012531</td>\n",
       "      <td>123.046875</td>\n",
       "      <td>blues</td>\n",
       "    </tr>\n",
       "    <tr>\n",
       "      <th>3</th>\n",
       "      <td>-118.325325</td>\n",
       "      <td>2505.8510</td>\n",
       "      <td>131.587170</td>\n",
       "      <td>323.43292</td>\n",
       "      <td>-18.493637</td>\n",
       "      <td>109.73642</td>\n",
       "      <td>39.478863</td>\n",
       "      <td>195.06105</td>\n",
       "      <td>-12.992122</td>\n",
       "      <td>140.52765</td>\n",
       "      <td>...</td>\n",
       "      <td>1967.920582</td>\n",
       "      <td>79805.90135</td>\n",
       "      <td>3579.149639</td>\n",
       "      <td>9.032748e+05</td>\n",
       "      <td>0.069426</td>\n",
       "      <td>0.000304</td>\n",
       "      <td>-0.000036</td>\n",
       "      <td>0.008459</td>\n",
       "      <td>123.046875</td>\n",
       "      <td>blues</td>\n",
       "    </tr>\n",
       "    <tr>\n",
       "      <th>4</th>\n",
       "      <td>-106.182110</td>\n",
       "      <td>2124.5708</td>\n",
       "      <td>134.275960</td>\n",
       "      <td>209.58644</td>\n",
       "      <td>-19.761967</td>\n",
       "      <td>173.80823</td>\n",
       "      <td>39.920500</td>\n",
       "      <td>111.32418</td>\n",
       "      <td>-14.074066</td>\n",
       "      <td>99.91732</td>\n",
       "      <td>...</td>\n",
       "      <td>1954.633566</td>\n",
       "      <td>57359.69560</td>\n",
       "      <td>3480.096905</td>\n",
       "      <td>5.889230e+05</td>\n",
       "      <td>0.070102</td>\n",
       "      <td>0.000288</td>\n",
       "      <td>-0.000016</td>\n",
       "      <td>0.009666</td>\n",
       "      <td>123.046875</td>\n",
       "      <td>blues</td>\n",
       "    </tr>\n",
       "  </tbody>\n",
       "</table>\n",
       "<p>5 rows × 56 columns</p>\n",
       "</div>"
      ],
      "text/plain": [
       "   mfcc1_mean  mfcc1_var  mfcc2_mean  mfcc2_var  mfcc3_mean  mfcc3_var  \\\n",
       "0 -119.018040  2494.4453  125.080345  262.11307  -23.394335  365.39410   \n",
       "1 -125.977150  2046.7885  122.374200  218.45811  -20.679749  233.20865   \n",
       "2 -132.618150  3794.8044  114.815520  246.77928  -14.718568  192.96564   \n",
       "3 -118.325325  2505.8510  131.587170  323.43292  -18.493637  109.73642   \n",
       "4 -106.182110  2124.5708  134.275960  209.58644  -19.761967  173.80823   \n",
       "\n",
       "   mfcc4_mean  mfcc4_var  mfcc5_mean  mfcc5_var  ...  spectral_bandwidth_mean  \\\n",
       "0   41.321730  181.91304   -5.931897  152.47517  ...              1972.334258   \n",
       "1   50.035050  143.88158  -11.250690  139.74892  ...              2010.751494   \n",
       "2   50.017944  153.58598   -0.424878  122.80047  ...              2088.184750   \n",
       "3   39.478863  195.06105  -12.992122  140.52765  ...              1967.920582   \n",
       "4   39.920500  111.32418  -14.074066   99.91732  ...              1954.633566   \n",
       "\n",
       "   spectral_bandwidth_var  spectral_rolloff_mean  spectral_rolloff_var  \\\n",
       "0            117272.64020            3714.063439          1.083179e+06   \n",
       "1             65940.66624            3870.510442          6.721332e+05   \n",
       "2             73391.49800            4000.206581          7.859502e+05   \n",
       "3             79805.90135            3579.149639          9.032748e+05   \n",
       "4             57359.69560            3480.096905          5.889230e+05   \n",
       "\n",
       "   zero_crossing_rate_mean  zero_crossing_rate_var  harmony_mean  harmony_var  \\\n",
       "0                 0.081851                0.000558     -0.000047     0.008388   \n",
       "1                 0.087173                0.001030     -0.000098     0.004937   \n",
       "2                 0.071383                0.000425     -0.000007     0.012531   \n",
       "3                 0.069426                0.000304     -0.000036     0.008459   \n",
       "4                 0.070102                0.000288     -0.000016     0.009666   \n",
       "\n",
       "        tempo  label  \n",
       "0  129.199219  blues  \n",
       "1  123.046875  blues  \n",
       "2  123.046875  blues  \n",
       "3  123.046875  blues  \n",
       "4  123.046875  blues  \n",
       "\n",
       "[5 rows x 56 columns]"
      ]
     },
     "execution_count": 21,
     "metadata": {},
     "output_type": "execute_result"
    }
   ],
   "source": [
    "# Load dataset into dataframe\n",
    "df = pd.read_csv('feature_extracted_dataset.csv')\n",
    "df.head()"
   ]
  },
  {
   "cell_type": "code",
   "execution_count": 22,
   "metadata": {},
   "outputs": [
    {
     "data": {
      "text/plain": [
       "0       0\n",
       "1       0\n",
       "2       0\n",
       "3       0\n",
       "4       0\n",
       "       ..\n",
       "9985    9\n",
       "9986    9\n",
       "9987    9\n",
       "9988    9\n",
       "9989    9\n",
       "Name: label, Length: 9990, dtype: int32"
      ]
     },
     "execution_count": 22,
     "metadata": {},
     "output_type": "execute_result"
    }
   ],
   "source": [
    "# Converting the label values to a range of 0 to 9\n",
    "label_encoder = preprocessing.LabelEncoder()\n",
    "df['label'] = label_encoder.fit_transform(df['label'])\n",
    "\n",
    "# Seperating the features and labels\n",
    "X = df.drop(['label'],axis=1)\n",
    "y = df['label']"
   ]
  },
  {
   "cell_type": "code",
   "execution_count": 23,
   "metadata": {},
   "outputs": [],
   "source": [
    "# Normalizing the feature values from 0 to 1\n",
    "min_max_scaler = preprocessing.MinMaxScaler()\n",
    "np_scaled = min_max_scaler.fit_transform(X)\n",
    "\n",
    "# Saving the Normalizing model for prediction use later\n",
    "with open(f'Scalers/minmax.pickle', 'wb') as handle:\n",
    "    pickle.dump(min_max_scaler, handle, protocol=pickle.HIGHEST_PROTOCOL)\n",
    "\n",
    "# New data frame with the new scaled data. \n",
    "cols = X.columns\n",
    "X = pd.DataFrame(np_scaled, columns = cols)"
   ]
  },
  {
   "cell_type": "code",
   "execution_count": 41,
   "metadata": {},
   "outputs": [
    {
     "data": {
      "text/plain": [
       "((6993, 55), (2997, 55), (6993,), (2997,))"
      ]
     },
     "execution_count": 41,
     "metadata": {},
     "output_type": "execute_result"
    }
   ],
   "source": [
    "# Splitting the dataset into training and testing data \n",
    "X_train, X_test, y_train, y_test = train_test_split(X, y, test_size=0.3, random_state=111)\n",
    "X_train.shape, X_test.shape, y_train.shape, y_test.shape"
   ]
  },
  {
   "cell_type": "code",
   "execution_count": 42,
   "metadata": {},
   "outputs": [],
   "source": [
    "# Function to train and assess model\n",
    "def model_assess(model, title = \"Default\"):\n",
    "    model.fit(X_train, y_train)\n",
    "    preds = model.predict(X_test)\n",
    "\n",
    "    # Dump model into Binary pickle file for prediction use later\n",
    "    with open(f'Models/{title}.pickle', 'wb') as handle:\n",
    "        pickle.dump(model, handle, protocol=pickle.HIGHEST_PROTOCOL)\n",
    "\n",
    "    # Printing the accuracy\n",
    "    print('Accuracy', title, ':', round(accuracy_score(y_test, preds), 5), '\\n')\n"
   ]
  },
  {
   "cell_type": "code",
   "execution_count": 43,
   "metadata": {},
   "outputs": [
    {
     "name": "stdout",
     "output_type": "stream",
     "text": [
      "Accuracy NaiveBayes : 0.52219 \n",
      "\n"
     ]
    }
   ],
   "source": [
    "# Naive Bayes\n",
    "nb = GaussianNB()\n",
    "model_assess(nb, \"NaiveBayes\")"
   ]
  },
  {
   "cell_type": "code",
   "execution_count": 44,
   "metadata": {},
   "outputs": [
    {
     "name": "stdout",
     "output_type": "stream",
     "text": [
      "Accuracy StochasticGradientDescent : 0.66567 \n",
      "\n"
     ]
    }
   ],
   "source": [
    "# Stochastic Gradient Descent\n",
    "sgd = SGDClassifier(max_iter=5000, random_state=0)\n",
    "model_assess(sgd, \"StochasticGradientDescent\")"
   ]
  },
  {
   "cell_type": "code",
   "execution_count": 45,
   "metadata": {},
   "outputs": [
    {
     "name": "stdout",
     "output_type": "stream",
     "text": [
      "Accuracy KNN : 0.81481 \n",
      "\n"
     ]
    }
   ],
   "source": [
    "# KNN\n",
    "knn = KNeighborsClassifier(n_neighbors=19)\n",
    "model_assess(knn, \"KNN\")"
   ]
  },
  {
   "cell_type": "code",
   "execution_count": 46,
   "metadata": {},
   "outputs": [
    {
     "name": "stdout",
     "output_type": "stream",
     "text": [
      "Accuracy DecissionTrees : 0.63197 \n",
      "\n"
     ]
    }
   ],
   "source": [
    "# Decission trees\n",
    "tree = DecisionTreeClassifier()\n",
    "model_assess(tree, \"DecissionTrees\")"
   ]
  },
  {
   "cell_type": "code",
   "execution_count": 47,
   "metadata": {},
   "outputs": [
    {
     "name": "stdout",
     "output_type": "stream",
     "text": [
      "Accuracy RandomForest : 0.79813 \n",
      "\n"
     ]
    }
   ],
   "source": [
    "# Random Forest\n",
    "rforest = RandomForestClassifier(n_estimators=1000, max_depth=10, random_state=0)\n",
    "model_assess(rforest, \"RandomForest\")"
   ]
  },
  {
   "cell_type": "code",
   "execution_count": 48,
   "metadata": {},
   "outputs": [
    {
     "name": "stdout",
     "output_type": "stream",
     "text": [
      "Accuracy SupportVectorMachine : 0.74241 \n",
      "\n"
     ]
    }
   ],
   "source": [
    "# Support Vector Machine\n",
    "svm = SVC(decision_function_shape=\"ovo\")\n",
    "model_assess(svm, \"SupportVectorMachine\")"
   ]
  },
  {
   "cell_type": "code",
   "execution_count": 49,
   "metadata": {},
   "outputs": [
    {
     "name": "stdout",
     "output_type": "stream",
     "text": [
      "Accuracy LogisticRegression : 0.67968 \n",
      "\n"
     ]
    },
    {
     "name": "stderr",
     "output_type": "stream",
     "text": [
      "C:\\Users\\agraw\\AppData\\Local\\Packages\\PythonSoftwareFoundation.Python.3.9_qbz5n2kfra8p0\\LocalCache\\local-packages\\Python39\\site-packages\\sklearn\\linear_model\\_logistic.py:814: ConvergenceWarning: lbfgs failed to converge (status=1):\n",
      "STOP: TOTAL NO. of ITERATIONS REACHED LIMIT.\n",
      "\n",
      "Increase the number of iterations (max_iter) or scale the data as shown in:\n",
      "    https://scikit-learn.org/stable/modules/preprocessing.html\n",
      "Please also refer to the documentation for alternative solver options:\n",
      "    https://scikit-learn.org/stable/modules/linear_model.html#logistic-regression\n",
      "  n_iter_i = _check_optimize_result(\n"
     ]
    }
   ],
   "source": [
    "# Logistic Regression\n",
    "lg = LogisticRegression(random_state=0, solver='lbfgs', multi_class='multinomial')\n",
    "model_assess(lg, \"LogisticRegression\")"
   ]
  },
  {
   "cell_type": "code",
   "execution_count": 50,
   "metadata": {},
   "outputs": [
    {
     "name": "stderr",
     "output_type": "stream",
     "text": [
      "C:\\Users\\agraw\\AppData\\Local\\Packages\\PythonSoftwareFoundation.Python.3.9_qbz5n2kfra8p0\\LocalCache\\local-packages\\Python39\\site-packages\\sklearn\\neural_network\\_multilayer_perceptron.py:549: ConvergenceWarning: lbfgs failed to converge (status=1):\n",
      "STOP: TOTAL NO. of ITERATIONS REACHED LIMIT.\n",
      "\n",
      "Increase the number of iterations (max_iter) or scale the data as shown in:\n",
      "    https://scikit-learn.org/stable/modules/preprocessing.html\n",
      "  self.n_iter_ = _check_optimize_result(\"lbfgs\", opt_res, self.max_iter)\n"
     ]
    },
    {
     "name": "stdout",
     "output_type": "stream",
     "text": [
      "Accuracy NeuralNets : 0.68569 \n",
      "\n"
     ]
    }
   ],
   "source": [
    "# Neural Nets\n",
    "nn = MLPClassifier(solver='lbfgs', alpha=1e-5, hidden_layer_sizes=(5000, 10), random_state=1)\n",
    "model_assess(nn, \"NeuralNets\")"
   ]
  },
  {
   "cell_type": "code",
   "execution_count": 51,
   "metadata": {},
   "outputs": [
    {
     "name": "stdout",
     "output_type": "stream",
     "text": [
      "Accuracy CatBoostClassifier : 0.89523 \n",
      "\n"
     ]
    }
   ],
   "source": [
    "# catboost\n",
    "cbc = cb.CatBoostClassifier(verbose=0, eval_metric='Accuracy', loss_function='MultiClass')\n",
    "model_assess(cbc,\"CatBoostClassifier\")"
   ]
  },
  {
   "cell_type": "code",
   "execution_count": 52,
   "metadata": {},
   "outputs": [
    {
     "name": "stderr",
     "output_type": "stream",
     "text": [
      "C:\\Users\\agraw\\AppData\\Local\\Packages\\PythonSoftwareFoundation.Python.3.9_qbz5n2kfra8p0\\LocalCache\\local-packages\\Python39\\site-packages\\xgboost\\sklearn.py:1224: UserWarning: The use of label encoder in XGBClassifier is deprecated and will be removed in a future release. To remove this warning, do the following: 1) Pass option use_label_encoder=False when constructing XGBClassifier object; and 2) Encode your labels (y) as integers starting with 0, i.e. 0, 1, 2, ..., [num_class - 1].\n",
      "  warnings.warn(label_encoder_deprecation_msg, UserWarning)\n",
      "C:\\Users\\agraw\\AppData\\Local\\Packages\\PythonSoftwareFoundation.Python.3.9_qbz5n2kfra8p0\\LocalCache\\local-packages\\Python39\\site-packages\\xgboost\\data.py:262: FutureWarning: pandas.Int64Index is deprecated and will be removed from pandas in a future version. Use pandas.Index with the appropriate dtype instead.\n",
      "  elif isinstance(data.columns, (pd.Int64Index, pd.RangeIndex)):\n"
     ]
    },
    {
     "name": "stdout",
     "output_type": "stream",
     "text": [
      "[01:14:13] WARNING: C:/Users/Administrator/workspace/xgboost-win64_release_1.5.1/src/learner.cc:1115: Starting in XGBoost 1.3.0, the default evaluation metric used with the objective 'multi:softprob' was changed from 'merror' to 'mlogloss'. Explicitly set eval_metric if you'd like to restore the old behavior.\n",
      "Accuracy CrossGradientBooster : 0.8969 \n",
      "\n"
     ]
    }
   ],
   "source": [
    "# Cross Gradient Booster\n",
    "xgb = XGBClassifier(n_estimators=1000, learning_rate=0.05)\n",
    "model_assess(xgb, \"CrossGradientBooster\")"
   ]
  },
  {
   "cell_type": "code",
   "execution_count": 53,
   "metadata": {},
   "outputs": [
    {
     "name": "stderr",
     "output_type": "stream",
     "text": [
      "C:\\Users\\agraw\\AppData\\Local\\Packages\\PythonSoftwareFoundation.Python.3.9_qbz5n2kfra8p0\\LocalCache\\local-packages\\Python39\\site-packages\\xgboost\\sklearn.py:1224: UserWarning: The use of label encoder in XGBClassifier is deprecated and will be removed in a future release. To remove this warning, do the following: 1) Pass option use_label_encoder=False when constructing XGBClassifier object; and 2) Encode your labels (y) as integers starting with 0, i.e. 0, 1, 2, ..., [num_class - 1].\n",
      "  warnings.warn(label_encoder_deprecation_msg, UserWarning)\n",
      "C:\\Users\\agraw\\AppData\\Local\\Packages\\PythonSoftwareFoundation.Python.3.9_qbz5n2kfra8p0\\LocalCache\\local-packages\\Python39\\site-packages\\xgboost\\data.py:262: FutureWarning: pandas.Int64Index is deprecated and will be removed from pandas in a future version. Use pandas.Index with the appropriate dtype instead.\n",
      "  elif isinstance(data.columns, (pd.Int64Index, pd.RangeIndex)):\n"
     ]
    },
    {
     "name": "stdout",
     "output_type": "stream",
     "text": [
      "[01:22:21] WARNING: C:/Users/Administrator/workspace/xgboost-win64_release_1.5.1/src/learner.cc:1115: Starting in XGBoost 1.3.0, the default evaluation metric used with the objective 'multi:softprob' was changed from 'merror' to 'mlogloss'. Explicitly set eval_metric if you'd like to restore the old behavior.\n",
      "Accuracy CrossGradientBoosterRandomForest : 0.72706 \n",
      "\n"
     ]
    }
   ],
   "source": [
    "# Cross Gradient Booster (Random Forest)\n",
    "xgbrf = XGBRFClassifier(objective= 'multi:softmax')\n",
    "model_assess(xgbrf, \"CrossGradientBoosterRandomForest\")"
   ]
  }
 ],
 "metadata": {
  "interpreter": {
   "hash": "df088d9b31dc6d6a0b3f2005041c11fd9386ccaa00302f52ef64b222c14ee0a1"
  },
  "kernelspec": {
   "display_name": "Python 3.9.13 64-bit (windows store)",
   "language": "python",
   "name": "python3"
  },
  "language_info": {
   "codemirror_mode": {
    "name": "ipython",
    "version": 3
   },
   "file_extension": ".py",
   "mimetype": "text/x-python",
   "name": "python",
   "nbconvert_exporter": "python",
   "pygments_lexer": "ipython3",
   "version": "3.9.13"
  },
  "orig_nbformat": 4
 },
 "nbformat": 4,
 "nbformat_minor": 2
}
